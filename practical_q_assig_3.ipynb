{
 "cells": [
  {
   "cell_type": "markdown",
   "id": "5af157a6-3ba8-4e3c-8948-1fd9e9d568e9",
   "metadata": {},
   "source": [
    " Write a Python function that takes a list of numbers as input and returns the sum of all even numbers in the list."
   ]
  },
  {
   "cell_type": "code",
   "execution_count": 1,
   "id": "c4c5d237-0359-44bb-82ce-060c2a32fe89",
   "metadata": {},
   "outputs": [
    {
     "name": "stdout",
     "output_type": "stream",
     "text": [
      "Sum of even numbers: 12\n"
     ]
    }
   ],
   "source": [
    "def sum_of_even_numbers(numbers):\n",
    "    return sum(num for num in numbers if num % 2 == 0)\n"
   ]
  },
  {
   "cell_type": "markdown",
   "id": "a4b0f177-f32c-409c-9e34-23a97f03738e",
   "metadata": {},
   "source": [
    "Create a Python function that accepts a string and returns the reverse of that string."
   ]
  },
  {
   "cell_type": "code",
   "execution_count": 2,
   "id": "e3d9f230-9380-4395-9425-3b9f669fbbbd",
   "metadata": {},
   "outputs": [],
   "source": [
    "def reverse_string(s):\n",
    "\n",
    "    return s[::-1]"
   ]
  },
  {
   "cell_type": "markdown",
   "id": "005fd034-1694-4ecb-b4e7-004d78517cf8",
   "metadata": {},
   "source": [
    " Implement a Python function that takes a list of integers and returns a new list containing the squares of each number."
   ]
  },
  {
   "cell_type": "code",
   "execution_count": 3,
   "id": "4250e58f-a2cc-4fbc-864f-66047c2b4b23",
   "metadata": {},
   "outputs": [],
   "source": [
    "def square_numbers(numbers):\n",
    "    # Use list comprehension to square each number in the list\n",
    "    return [num ** 2 for num in numbers]"
   ]
  },
  {
   "cell_type": "markdown",
   "id": "9445dea1-1a89-4464-88ed-b22ee9b87ea5",
   "metadata": {},
   "source": [
    " Write a Python function that checks if a given number is prime or not from 1 to 200."
   ]
  },
  {
   "cell_type": "code",
   "execution_count": 4,
   "id": "8ff973d2-9913-4706-93d3-7c3d61312f2b",
   "metadata": {},
   "outputs": [],
   "source": [
    "def is_prime(n):\n",
    "    if n < 2:\n",
    "        return False\n",
    "    for i in range(2, int(n ** 0.5) + 1):\n",
    "        if n % i == 0:\n",
    "            return False\n",
    "    return True"
   ]
  },
  {
   "cell_type": "markdown",
   "id": "1f7f3294-9796-4b22-a3d4-67e96acd2795",
   "metadata": {},
   "source": [
    "Create an iterator class in Python that generates the Fibonacci sequence up to a specified number of terms"
   ]
  },
  {
   "cell_type": "code",
   "execution_count": 5,
   "id": "5958fdf0-2e62-45ad-a616-52f69edfc6bc",
   "metadata": {},
   "outputs": [],
   "source": [
    "class FibonacciIterator:\n",
    "    def __init__(self, n_terms):\n",
    "        self.n_terms = n_terms  # Number of terms to generate\n",
    "        self.current = 0        # Current term index\n",
    "        self.a, self.b = 0, 1   # Starting values of the Fibonacci sequence\n",
    "\n",
    "    def __iter__(self):\n",
    "        return self\n",
    "\n",
    "    def __next__(self):\n",
    "        if self.current < self.n_terms:\n",
    "            # Return the current Fibonacci number and update to the next\n",
    "            fib_number = self.a\n",
    "            self.a, self.b = self.b, self.a + self.b  # Update the next two Fibonacci numbers\n",
    "            self.current += 1\n",
    "            return fib_number\n",
    "        else:\n",
    "            # Stop iteration when the desired number of terms is reached\n",
    "            raise StopIteration"
   ]
  },
  {
   "cell_type": "markdown",
   "id": "bac7c1fb-5275-4132-b85c-6806c4a32b33",
   "metadata": {},
   "source": [
    "Write a generator function in Python that yields the powers of 2 up to a given exponent."
   ]
  },
  {
   "cell_type": "code",
   "execution_count": 2,
   "id": "1198a583-8893-429c-baa2-b552c8627895",
   "metadata": {},
   "outputs": [
    {
     "name": "stdout",
     "output_type": "stream",
     "text": [
      "1\n",
      "2\n",
      "4\n",
      "8\n",
      "16\n",
      "32\n"
     ]
    }
   ],
   "source": [
    "def powers_of_two(max_exponent):\n",
    "    exponent = 0\n",
    "    while exponent <= max_exponent:\n",
    "        yield 2 ** exponent\n",
    "        exponent += 1\n",
    "        \n",
    "        \n",
    "#Example Usage:\n",
    "\n",
    "# Create the generator for powers of 2 up to 5\n",
    "generator = powers_of_two(5)\n",
    "\n",
    "# Iterate over the generator and print each power of 2\n",
    "for power in generator:\n",
    "    print(power)\n",
    "\n"
   ]
  },
  {
   "cell_type": "markdown",
   "id": "04414c19-02ff-40bc-8c2f-efd24ae7a406",
   "metadata": {},
   "source": [
    "Implement a generator function that reads a file line by line and yields each line as a string."
   ]
  },
  {
   "cell_type": "code",
   "execution_count": 6,
   "id": "245d414e-fd95-4215-b5ae-9200a87878ca",
   "metadata": {},
   "outputs": [],
   "source": [
    "def read_file_line_by_line(file_path):\n",
    "    # Open the file in read mode\n",
    "    with open(file_path, 'r') as file:\n",
    "        # Yield each line in the file\n",
    "        for line in file:\n",
    "            yield line.strip()"
   ]
  },
  {
   "cell_type": "markdown",
   "id": "63057c32-c229-4a34-9dbf-b0619c9fac48",
   "metadata": {},
   "source": [
    " Use a lambda function in Python to sort a list of tuples based on the second element of each tuple"
   ]
  },
  {
   "cell_type": "code",
   "execution_count": 7,
   "id": "c32538ef-2cd7-4141-8223-b957c02625cf",
   "metadata": {},
   "outputs": [
    {
     "name": "stdout",
     "output_type": "stream",
     "text": [
      "Sorted list: [(2, 1), (3, 2), (1, 3), (4, 5)]\n"
     ]
    }
   ],
   "source": [
    "tuples_list = [(1, 3), (2, 1), (3, 2), (4, 5)]\n",
    "\n",
    "# Sort the list using a lambda function that sorts by the second element of each tuple\n",
    "sorted_list = sorted(tuples_list, key=lambda x: x[1])\n",
    "\n",
    "# Print the sorted list\n",
    "print(\"Sorted list:\", sorted_list)"
   ]
  },
  {
   "cell_type": "markdown",
   "id": "91f9caae-2be6-47a6-b720-bcc7ba5b2a43",
   "metadata": {},
   "source": [
    " Write a Python program that uses `map()` to convert a list of temperatures from Celsius to Fahrenheit"
   ]
  },
  {
   "cell_type": "code",
   "execution_count": 8,
   "id": "22077147-8efd-4c76-bcfd-f7bda87fca4f",
   "metadata": {},
   "outputs": [
    {
     "name": "stdout",
     "output_type": "stream",
     "text": [
      "Temperatures in Fahrenheit: [32.0, 68.0, 98.6, 212.0]\n"
     ]
    }
   ],
   "source": [
    "def celsius_to_fahrenheit(celsius):\n",
    "    return (celsius * 9/5) + 32\n",
    "\n",
    "# List of temperatures in Celsius\n",
    "celsius_temperatures = [0, 20, 37, 100]\n",
    "\n",
    "# Use map() to apply the conversion function to each temperature in the list\n",
    "fahrenheit_temperatures = list(map(celsius_to_fahrenheit, celsius_temperatures))\n",
    "\n",
    "# Print the result\n",
    "print(\"Temperatures in Fahrenheit:\", fahrenheit_temperatures)"
   ]
  },
  {
   "cell_type": "markdown",
   "id": "52e9f78c-97f3-4d98-93d5-8912590b84d7",
   "metadata": {},
   "source": [
    "Create a Python program that uses `filter()` to remove all the vowels from a given string"
   ]
  },
  {
   "cell_type": "code",
   "execution_count": 9,
   "id": "82fb7492-5983-4cf2-8282-f2f25810e61d",
   "metadata": {},
   "outputs": [],
   "source": [
    "def remove_vowels(s):\n",
    "    vowels = \"aeiouAEIOU\"  # Define vowels\n",
    "    # Use filter to remove vowels from the string\n",
    "    return ''.join(filter(lambda char: char not in vowels, s))"
   ]
  },
  {
   "cell_type": "markdown",
   "id": "216d9df3-dd28-4547-9720-5acf22a5879a",
   "metadata": {},
   "source": [
    " Imagine an accounting routine used in a book shop. It works on a list with sublists, which look like this: Write a Python program, which returns a list with 2-tuples. Each tuple consists of the order number and the product of the price per item and the quantity. The product should be increased by 10,- € if the value of the order is smaller than 100,00 €. Write a Python program using lambda and map."
   ]
  },
  {
   "cell_type": "code",
   "execution_count": 10,
   "id": "02b9683b-4803-485e-82af-88bbc058f4e1",
   "metadata": {},
   "outputs": [
    {
     "name": "stdout",
     "output_type": "stream",
     "text": [
      "[(34587, 163.8), (98762, 284.0), (77226, 108.85000000000001), (88112, 84.97)]\n"
     ]
    }
   ],
   "source": [
    "orders = [ [34587, \"Learning Python, Mark Lutz\", 4, 40.95], [98762, \"Programming Python, Mark Lutz\", 5, 56.80], [77226, \"Head First Python, Paul Barry\", 3, 32.95], [88112, \"Einführung in Python3, Bernd Klein\", 3, 24.99] ]\n",
    "\n",
    "invoice = list(map(lambda x: (x[0], x[2] * x[3] if x[2] * x[3] >= 100 else x[2] * x[3] + 10), orders))\n",
    "\n",
    "print(invoice)"
   ]
  },
  {
   "cell_type": "code",
   "execution_count": null,
   "id": "9efa6ca1-5920-4116-b6be-3f2bf557faca",
   "metadata": {},
   "outputs": [],
   "source": []
  }
 ],
 "metadata": {
  "kernelspec": {
   "display_name": "Python 3 (ipykernel)",
   "language": "python",
   "name": "python3"
  },
  "language_info": {
   "codemirror_mode": {
    "name": "ipython",
    "version": 3
   },
   "file_extension": ".py",
   "mimetype": "text/x-python",
   "name": "python",
   "nbconvert_exporter": "python",
   "pygments_lexer": "ipython3",
   "version": "3.10.8"
  }
 },
 "nbformat": 4,
 "nbformat_minor": 5
}
