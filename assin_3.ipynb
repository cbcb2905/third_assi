{
 "cells": [
  {
   "cell_type": "code",
   "execution_count": null,
   "id": "d2edf543-a385-43f8-bccc-3836f9a2594c",
   "metadata": {},
   "outputs": [],
   "source": [
    "#Q1 - What is the difference between a function and a method in Python?"
   ]
  },
  {
   "cell_type": "markdown",
   "id": "8842820b-3a28-4db9-b56a-088e81cbe182",
   "metadata": {},
   "source": [
    "In Python, both functions and methods are blocks of code that perform a specific task, but they differ in terms of how they are used and defined:"
   ]
  },
  {
   "cell_type": "markdown",
   "id": "326015d4-a714-493f-8eca-b488dafb9384",
   "metadata": {},
   "source": [
    "1. Function:\n",
    "--Standalone: A function is a block of reusable code that is defined using the def keyword and can exist independently. You can call it by its name from anywhere in the program.\n",
    "\n",
    "--Called directly: Functions can be called without being associated with any object."
   ]
  },
  {
   "cell_type": "code",
   "execution_count": 2,
   "id": "d56e2871-be5f-4376-bfe1-92472fb1d734",
   "metadata": {},
   "outputs": [
    {
     "name": "stdout",
     "output_type": "stream",
     "text": [
      "This is a function!\n"
     ]
    }
   ],
   "source": [
    "#example\n",
    "def my_function():\n",
    "    print(\"This is a function!\")\n",
    "\n",
    "my_function()"
   ]
  },
  {
   "cell_type": "markdown",
   "id": "16820ccb-11f6-4e71-8771-a3bac029de9f",
   "metadata": {},
   "source": [
    "2. Method:\n",
    "--Associated with objects: A method is a function that belongs to an object (usually to a class or an instance of a class). In Python, methods are functions defined within a class.\n",
    "\n",
    "--Called on an instance: You need an instance (or object) of a class to call a method."
   ]
  },
  {
   "cell_type": "code",
   "execution_count": 6,
   "id": "332e11c8-e17f-446d-93cf-74abac92e1f6",
   "metadata": {},
   "outputs": [
    {
     "name": "stdout",
     "output_type": "stream",
     "text": [
      "This is a method!\n"
     ]
    }
   ],
   "source": [
    "#example\n",
    "\n",
    "class MyClass:\n",
    "    def my_method(self):\n",
    "        print(\"This is a method!\")\n",
    "\n",
    "obj = MyClass()\n",
    "obj.my_method()  # Method call\n"
   ]
  },
  {
   "cell_type": "code",
   "execution_count": null,
   "id": "759c5b66-7075-4df9-86fe-43311088626f",
   "metadata": {},
   "outputs": [],
   "source": [
    "#Q2 - Explain the concept of function arguments and parameters in Python."
   ]
  },
  {
   "cell_type": "markdown",
   "id": "e6f5276d-b8fd-4959-8211-f93d82f7e608",
   "metadata": {},
   "source": [
    "In Python, parameters and arguments refer to the values used when defining and calling a function, respectively. Here's a detailed explanation of both concepts:"
   ]
  },
  {
   "cell_type": "markdown",
   "id": "827f86de-e69a-4677-a0e2-2c22ee6e8c8b",
   "metadata": {},
   "source": [
    "1. Parameters:\n",
    "Definition: Parameters are the names used in a function definition to specify the expected inputs.\n",
    "\n",
    "Purpose: They act as placeholders for the actual values (arguments) that will be passed to the function when it is called."
   ]
  },
  {
   "cell_type": "code",
   "execution_count": 15,
   "id": "9c84a97b-bd7f-403b-a263-433671e23346",
   "metadata": {},
   "outputs": [],
   "source": [
    "#example\n",
    "def greet(name):  # 'name' is a parameter\n",
    "    print(f\"Hello, {name}!\")\n"
   ]
  },
  {
   "cell_type": "markdown",
   "id": "b560aed8-d776-4f73-bfe0-758d0c20cc9b",
   "metadata": {},
   "source": [
    "2. Arguments:\n",
    "Definition: Arguments are the actual values you pass to the function when you call it.\n",
    "Purpose: They fill in the placeholders defined by the parameters, allowing the function to perform its task.\n"
   ]
  },
  {
   "cell_type": "code",
   "execution_count": 8,
   "id": "deca5ffe-57d2-48ea-a665-2faae48a6841",
   "metadata": {},
   "outputs": [
    {
     "name": "stdout",
     "output_type": "stream",
     "text": [
      "Hello, Alice!\n"
     ]
    }
   ],
   "source": [
    "#example\n",
    "greet(\"Alice\")  # 'Alice' is an argument"
   ]
  },
  {
   "cell_type": "code",
   "execution_count": null,
   "id": "35ad3efd-646b-4519-a9c0-ca8397f5d65d",
   "metadata": {},
   "outputs": [],
   "source": [
    "#Q3 - What are the different ways to define and call a function in Python?"
   ]
  },
  {
   "cell_type": "markdown",
   "id": "01f5d551-65e0-4cea-8bf8-c7ef11753560",
   "metadata": {},
   "source": [
    "In Python, there are various ways to define and call functions. Here’s an overview of the different types of functions and how you can define and call them:"
   ]
  },
  {
   "cell_type": "markdown",
   "id": "173bcade-c30a-44fc-853b-8bf32c0e7f50",
   "metadata": {},
   "source": [
    "1. Regular Functions (Using def)\n",
    "Definition:\n",
    "A function is defined using the def keyword, followed by the function name and parameters (if any). The body contains the statements that define the function’s behavior.\n",
    "\n"
   ]
  },
  {
   "cell_type": "code",
   "execution_count": 16,
   "id": "7cc15834-dc7e-4fc4-9302-aeb9d2e4950b",
   "metadata": {},
   "outputs": [
    {
     "name": "stdout",
     "output_type": "stream",
     "text": [
      "8\n"
     ]
    }
   ],
   "source": [
    "#example\n",
    "def add(a, b):\n",
    "    return a + b\n",
    "#Calling the function:\n",
    "#You call the function by its name and pass arguments in parentheses.\n",
    "result = add(5, 3)\n",
    "print(result)  # Output: 8\n"
   ]
  },
  {
   "cell_type": "markdown",
   "id": "a3b3f2f4-a193-4971-807e-d8200516f5ea",
   "metadata": {},
   "source": [
    "2. Lambda Functions (Anonymous Functions)\n",
    "Definition:\n",
    "Lambda functions are small, anonymous functions defined using the lambda keyword. They can have any number of arguments but only one expression, which is evaluated and returned."
   ]
  },
  {
   "cell_type": "code",
   "execution_count": null,
   "id": "5229afda-1c8f-40aa-8dad-d9e95c320978",
   "metadata": {},
   "outputs": [],
   "source": [
    "#example\n",
    "add = lambda a, b: a + b\n",
    "\n",
    "#Calling the function:\n",
    "#Lambda functions can be called in the same way as regular functions.\n",
    "result = add(5, 3)\n",
    "print(result)  # Output: 8\n"
   ]
  },
  {
   "cell_type": "markdown",
   "id": "4ca30323-66b8-47e6-8a40-b11ca4850856",
   "metadata": {},
   "source": [
    "3. Functions with Default Parameters\n",
    "Definition:\n",
    "You can define a function with default values for one or more parameters. This makes the parameter optional, and if no argument is provided, the default value is used."
   ]
  },
  {
   "cell_type": "code",
   "execution_count": null,
   "id": "027a65be-7904-41d3-8f47-bc5c7d372f17",
   "metadata": {},
   "outputs": [],
   "source": [
    "#example\n",
    "def function_name(param1=default_value):\n",
    "    # Function body\n",
    "#Calling the function:\n",
    "#With an argument:\n",
    "greet(\"Alice\")  # Output: Hello, Alice!\n",
    "\n",
    "#without an argument\n",
    "greet()  # Output: Hello, Guest!\n"
   ]
  },
  {
   "cell_type": "markdown",
   "id": "6f03e178-d5dc-419b-b793-84be3e7d4920",
   "metadata": {},
   "source": [
    "4. Functions with Variable-Length Arguments\n",
    "Definition:\n",
    "You can define a function that takes a variable number of arguments using *args (for positional arguments) or **kwargs (for keyword arguments)."
   ]
  },
  {
   "cell_type": "code",
   "execution_count": null,
   "id": "32885bae-167b-44eb-b96f-c0554956ffd7",
   "metadata": {},
   "outputs": [],
   "source": [
    "#example\n",
    "def sum_all(*args):\n",
    "    return sum(args)\n",
    "#calling a function\n",
    "print(sum_all(1, 2, 3, 4))  # Output: 10\n"
   ]
  },
  {
   "cell_type": "markdown",
   "id": "7fcc3b31-8e16-4192-8437-03244088b6d6",
   "metadata": {},
   "source": [
    "5. Method (Function Inside a Class)\n",
    "Definition:\n",
    "In object-oriented programming, a function that is defined inside a class is called a method."
   ]
  },
  {
   "cell_type": "code",
   "execution_count": 17,
   "id": "284589d4-1f5e-491d-9e77-4f1b9bb4b283",
   "metadata": {},
   "outputs": [
    {
     "name": "stdout",
     "output_type": "stream",
     "text": [
      "Hello!\n"
     ]
    }
   ],
   "source": [
    "#Example\n",
    "class Person:\n",
    "    def greet(self):\n",
    "        print(\"Hello!\")\n",
    "\n",
    "person = Person()\n",
    "person.greet()  # Output: Hello!\n"
   ]
  },
  {
   "cell_type": "code",
   "execution_count": null,
   "id": "dd0fc6b1-e69f-4c32-a91b-776c0a85740e",
   "metadata": {},
   "outputs": [],
   "source": [
    "#Q4 - What is the purpose of the `return` statement in a Python function?"
   ]
  },
  {
   "cell_type": "markdown",
   "id": "424a9c04-f224-428d-9ef5-ac13c01ca8c9",
   "metadata": {},
   "source": [
    "\n",
    "The return statement in a Python function serves the following purposes:\n",
    "\n",
    "1. End the Function Execution: When a return statement is encountered, the function stops executing further code and exits."
   ]
  },
  {
   "cell_type": "markdown",
   "id": "14b256f8-354a-4635-bfac-314f976439bf",
   "metadata": {},
   "source": [
    "2. Return a Value: The return statement allows you to send a value (or multiple values) from a function back to the caller. This value can be of any data type (e.g., integer, string, list, etc.)."
   ]
  },
  {
   "cell_type": "code",
   "execution_count": 18,
   "id": "91e48229-6d5a-40ae-83d7-5eefb22d4f3e",
   "metadata": {},
   "outputs": [],
   "source": [
    "def add(a, b):\n",
    "    return a + b\n",
    "result = add(5, 3)  # result will be 8"
   ]
  },
  {
   "cell_type": "markdown",
   "id": "1d74370b-d6ba-4eb2-8fb6-8eab03ab8d69",
   "metadata": {},
   "source": [
    "3. None by Default: If a function does not explicitly use a return statement, it will return None by default."
   ]
  },
  {
   "cell_type": "code",
   "execution_count": 19,
   "id": "5a030fcb-62a4-44c2-8061-f3a45ca3fa86",
   "metadata": {},
   "outputs": [
    {
     "name": "stdout",
     "output_type": "stream",
     "text": [
      "None\n"
     ]
    }
   ],
   "source": [
    "def no_return():\n",
    "    pass\n",
    "\n",
    "print(no_return())  # Output: None\n"
   ]
  },
  {
   "cell_type": "raw",
   "id": "948c77de-a238-4668-9d52-573751481a65",
   "metadata": {},
   "source": [
    "In summary, return provides a way to exit the function and send back results to the calling code."
   ]
  },
  {
   "cell_type": "code",
   "execution_count": null,
   "id": "fcf202ef-4ecc-42c9-8bf6-d20f6b796839",
   "metadata": {},
   "outputs": [],
   "source": [
    "#Q5 -  What are iterators in Python and how do they differ from iterables?"
   ]
  },
  {
   "cell_type": "markdown",
   "id": "43143e2e-0232-4a04-9b55-ba111239859e",
   "metadata": {},
   "source": [
    "In Python, iterators and iterables are related concepts but differ in their behavior and usage."
   ]
  },
  {
   "cell_type": "markdown",
   "id": "c535f36b-2af5-4f4d-b3ad-27c06b48797f",
   "metadata": {},
   "source": [
    "1. Iterable\n",
    "An iterable is any Python object that can return an iterator. This includes objects like lists, tuples, dictionaries, sets, and strings. An iterable is an object that can be \"iterated\" over, meaning you can go over each element one by one.\n",
    "\n",
    "-Examples of iterables: lists, strings, dictionaries, etc.\n",
    "-How to identify an iterable: An object is iterable if it implements the __iter__() method, which returns an iterator object."
   ]
  },
  {
   "cell_type": "code",
   "execution_count": 20,
   "id": "a8b24415-880c-49db-8d1e-d7e688f0bf20",
   "metadata": {},
   "outputs": [
    {
     "name": "stdout",
     "output_type": "stream",
     "text": [
      "1\n",
      "2\n",
      "3\n",
      "4\n"
     ]
    }
   ],
   "source": [
    "my_list = [1, 2, 3, 4]\n",
    "for item in my_list:\n",
    "    print(item)\n"
   ]
  },
  {
   "cell_type": "markdown",
   "id": "83ea35f9-0314-4274-9b6e-8756d64d5d9e",
   "metadata": {},
   "source": [
    "2. Iterator\n",
    "An iterator is an object that represents a stream of data, returned one element at a time. It is produced by calling the __iter__() method on an iterable, and it implements the __next__() method, which returns the next element of the stream, or raises a StopIteration exception when there are no more elements.\n",
    "\n",
    "-How to identify an iterator: An object is an iterator if it implements both __iter__() and __next__() methods."
   ]
  },
  {
   "cell_type": "code",
   "execution_count": 21,
   "id": "ba6bbce0-1b93-4aea-9fff-ad7a1985980e",
   "metadata": {},
   "outputs": [
    {
     "name": "stdout",
     "output_type": "stream",
     "text": [
      "1\n",
      "2\n"
     ]
    }
   ],
   "source": [
    "my_list = [1, 2, 3, 4]\n",
    "my_iterator = iter(my_list)\n",
    "\n",
    "print(next(my_iterator))  # Output: 1\n",
    "print(next(my_iterator))  # Output: 2\n"
   ]
  },
  {
   "cell_type": "raw",
   "id": "a2d988a1-d8f5-439a-8661-4c8a53f3060a",
   "metadata": {},
   "source": [
    "Key Points:\n",
    "Iterable objects can be iterated over but do not themselves have the ability to yield elements one at a time.\n",
    "Iterators are stateful, meaning they keep track of their position during iteration.\n",
    "Once you exhaust an iterator, you cannot reset it. You would need to create a new iterator by calling iter() again on the iterable."
   ]
  },
  {
   "cell_type": "code",
   "execution_count": null,
   "id": "d4ec67b3-6038-46fb-a3c3-19211e9c0773",
   "metadata": {},
   "outputs": [],
   "source": []
  },
  {
   "cell_type": "code",
   "execution_count": null,
   "id": "a349710e-2eb5-4f71-9b1a-15602d6d0451",
   "metadata": {},
   "outputs": [],
   "source": [
    "#Q6 - Explain the concept of generators in Python and how they are defined?"
   ]
  },
  {
   "cell_type": "markdown",
   "id": "84756569-742b-4992-af23-28b4d2fd7df1",
   "metadata": {},
   "source": [
    "In Python, generators are a type of iterable, like lists or tuples, but they generate values on the fly and yield them one at a time, instead of storing the entire sequence in memory. This makes generators highly memory-efficient, especially when dealing with large datasets or streams of data.\n",
    "\n",
    "key Concepts:\n",
    "\n",
    ">>Yield Statement: Generators use the yield statement to return values one at a time. Unlike the return statement, which ends a function, yield pauses the function and saves its state. The function can resume from where it left off, making generators efficient for iterating over large sequences without loading everything into memory.\n",
    "\n",
    ">>Lazy Evaluation: Generators compute values only when needed. This means values are not stored in memory, but are computed on-the-fly when the next item is requested.\n",
    "\n",
    ">>Iterators: Generators return an iterator object, which can be iterated over with a for loop or by using the next() function."
   ]
  },
  {
   "cell_type": "markdown",
   "id": "cea410af-ca91-42ef-b94f-955e4fb9c37b",
   "metadata": {},
   "source": [
    "How to Define a Generator"
   ]
  },
  {
   "cell_type": "markdown",
   "id": "d14a07bf-3e0b-4d06-b097-a210e3600b77",
   "metadata": {},
   "source": [
    "1. Using a Function with yield:\n",
    "You define a generator like a regular function, but instead of return, you use yield to return values one at a time."
   ]
  },
  {
   "cell_type": "code",
   "execution_count": 22,
   "id": "694f90d6-19d5-4dcf-a86d-521cdb6060ae",
   "metadata": {},
   "outputs": [
    {
     "name": "stdout",
     "output_type": "stream",
     "text": [
      "1\n",
      "2\n",
      "3\n"
     ]
    }
   ],
   "source": [
    "def my_generator():\n",
    "    yield 1\n",
    "    yield 2\n",
    "    yield 3\n",
    "\n",
    "gen = my_generator()\n",
    "print(next(gen))  # Output: 1\n",
    "print(next(gen))  # Output: 2\n",
    "print(next(gen))  # Output: 3\n"
   ]
  },
  {
   "cell_type": "markdown",
   "id": "e6f34cca-88f2-4b19-8fe0-1a0742a59763",
   "metadata": {},
   "source": [
    "2. Using Generator Expressions:\n",
    "Generators can also be created using a simpler syntax similar to list comprehensions, but with parentheses instead of square brackets."
   ]
  },
  {
   "cell_type": "code",
   "execution_count": 23,
   "id": "73e18c02-7db4-40fc-bd8e-ffaa69d30623",
   "metadata": {},
   "outputs": [
    {
     "name": "stdout",
     "output_type": "stream",
     "text": [
      "0\n",
      "1\n",
      "4\n",
      "9\n",
      "16\n"
     ]
    }
   ],
   "source": [
    "gen_exp = (x**2 for x in range(5))\n",
    "\n",
    "for num in gen_exp:\n",
    "    print(num)  # Output: 0, 1, 4, 9, 16\n"
   ]
  },
  {
   "cell_type": "markdown",
   "id": "20b31dce-6848-404e-ab71-3ca5271895be",
   "metadata": {},
   "source": [
    "Example of a Generator Function:\n",
    "Here’s an example of a generator that produces the first n Fibonacci numbers:"
   ]
  },
  {
   "cell_type": "code",
   "execution_count": 25,
   "id": "844ee552-5080-48c5-9166-9b9ba0e07790",
   "metadata": {},
   "outputs": [
    {
     "name": "stdout",
     "output_type": "stream",
     "text": [
      "0\n",
      "1\n",
      "1\n",
      "2\n",
      "3\n"
     ]
    }
   ],
   "source": [
    "def fibonacci(n):\n",
    "    a, b = 0, 1\n",
    "    for _ in range(n):\n",
    "        yield a\n",
    "        a, b = b, a + b\n",
    "\n",
    "fib_gen = fibonacci(5)\n",
    "for num in fib_gen:\n",
    "    print(num)\n"
   ]
  },
  {
   "cell_type": "code",
   "execution_count": null,
   "id": "dac26b9e-89a2-41f1-bcea-d4ffb839ca41",
   "metadata": {},
   "outputs": [],
   "source": []
  },
  {
   "cell_type": "code",
   "execution_count": null,
   "id": "247b0e2a-78b3-4c69-b0e0-f36a1266da94",
   "metadata": {},
   "outputs": [],
   "source": [
    "#Q7 - What are the advantages of using generators over regular functions?"
   ]
  },
  {
   "cell_type": "markdown",
   "id": "63014426-78fe-42b4-9c89-1feef50da790",
   "metadata": {},
   "source": [
    "Generators offer several advantages over regular functions, particularly in terms of memory efficiency, performance, and flexibility. Here are the key advantages:"
   ]
  },
  {
   "cell_type": "markdown",
   "id": "2a45d483-852f-4bbe-bac2-5d80cb100b78",
   "metadata": {},
   "source": [
    "1. Memory Efficiency\n",
    ">>Lazy Evaluation: Generators produce items one at a time and only when required, which saves memory. In contrast, regular functions that return lists or other collections will store the entire result in memory.\n",
    "\n",
    ">>Iterating Large Data: When dealing with large datasets (e.g., processing millions of records), generators can be more memory-efficient as they don't load the entire data into memory at once."
   ]
  },
  {
   "cell_type": "markdown",
   "id": "046327ad-3908-4006-ba99-9da4acef28db",
   "metadata": {},
   "source": [
    "2. Improved Performance\n",
    ">>Faster Start-up: Generators yield values one by one, so they start producing results immediately, without waiting for all computations to finish. This can be useful when you only need the first few results or when consuming data in chunks.\n",
    ">>Avoiding Computation for Unused Items: Since generators calculate items on-demand, they save time by not computing items that aren’t actually requested (useful in cases where only part of the data is needed)."
   ]
  },
  {
   "cell_type": "markdown",
   "id": "f385abf8-80fa-4ab7-9d02-42f5b157e874",
   "metadata": {},
   "source": [
    "3. Simpler Code for Iteration\n",
    ">>Maintainable Code: Generators allow you to write cleaner and more readable code for sequences and streams without needing to manually handle state or maintain intermediate lists.\n",
    ">>Natural Iteration: When creating sequences, generators make it easier to write and understand code for complex iterative processes, avoiding the need for temporary storage structures."
   ]
  },
  {
   "cell_type": "markdown",
   "id": "c4388f37-0b26-49af-880b-51b46ebcd231",
   "metadata": {},
   "source": [
    "4. Infinite Sequences\n",
    ">>Handling Infinite Loops: Generators are ideal for representing infinite sequences (e.g., infinite data streams) since they only compute one value at a time and don’t need to store all values. Regular functions would fail because they would try to create and store an infinite data set."
   ]
  },
  {
   "cell_type": "markdown",
   "id": "e4fae4aa-385b-4806-8e22-cf6f2471ab45",
   "metadata": {},
   "source": [
    "5. Pipelining\n",
    ">>Processing Streams: Generators work well in pipelines where data is processed in stages. They can be passed between functions as iterators, allowing for more efficient and modular processing of data streams."
   ]
  },
  {
   "cell_type": "markdown",
   "id": "b3edbfb7-e394-4614-b398-973d8d887981",
   "metadata": {},
   "source": [
    "6. Stateful Iteration\n",
    ">>Saving State: Unlike regular functions, a generator can save its state between iterations. The yield statement in a generator function allows the function to pause and resume from where it left off, making it easier to handle complex iteration."
   ]
  },
  {
   "cell_type": "raw",
   "id": "6dec809c-d02a-4294-abee-e2ac6172e7c1",
   "metadata": {},
   "source": [
    "summary\n",
    "Generators are particularly useful when working with large or infinite data sets, allowing for more efficient memory usage and faster execution in many cases. They provide a more elegant and simplified way of implementing iterators compared to regular functions, especially when handling complex or stateful iterations."
   ]
  },
  {
   "cell_type": "code",
   "execution_count": null,
   "id": "99572af5-8076-4f8d-8d19-5aa0381dd926",
   "metadata": {},
   "outputs": [],
   "source": []
  },
  {
   "cell_type": "code",
   "execution_count": null,
   "id": "24f079d1-3f2c-4c85-8e1d-35f2dd22308d",
   "metadata": {},
   "outputs": [],
   "source": [
    "#Q8 - What is a lambda function in Python and when is it typically used?"
   ]
  },
  {
   "cell_type": "markdown",
   "id": "f98a7ab3-0848-4068-a576-a6fb247e9bae",
   "metadata": {},
   "source": [
    "A lambda function in Python is an anonymous (unnamed) function defined using the lambda keyword. It can take any number of arguments but has only one expression, which is evaluated and returned. The syntax is:\n",
    "\n",
    ">> lambda arguments: expression\n"
   ]
  },
  {
   "cell_type": "markdown",
   "id": "9394b7d3-ccc3-451d-8574-6e31f2f0aaf9",
   "metadata": {},
   "source": [
    "Key Characteristics:\n",
    ">>Anonymous: It doesn't have a name.\n",
    ">>Single-line: Defined in one line and can only contain a single expression.\n",
    ">>Functional programming style: Often used with functions like map(), filter(), and reduce(), which expect another function as an argument."
   ]
  },
  {
   "cell_type": "code",
   "execution_count": 1,
   "id": "4f690d04-3a51-40f1-8cba-c020449dc09d",
   "metadata": {},
   "outputs": [
    {
     "name": "stdout",
     "output_type": "stream",
     "text": [
      "5\n"
     ]
    }
   ],
   "source": [
    "#Example:\n",
    "#Here's a simple example that adds two numbers using a lambda function:\n",
    "add = lambda x, y: x + y\n",
    "print(add(2, 3))  # Output: 5\n"
   ]
  },
  {
   "cell_type": "markdown",
   "id": "89ba5933-c572-49e5-83ee-9d2b9c8181ee",
   "metadata": {},
   "source": [
    "Typical Use Cases:"
   ]
  },
  {
   "cell_type": "markdown",
   "id": "c0ea8aa7-e94f-420c-869c-9d13aa1c776b",
   "metadata": {},
   "source": [
    "1. Small, one-off functions: \n",
    ">>When a function is small and doesn't need to be reused elsewhere, you can use a lambda function."
   ]
  },
  {
   "cell_type": "code",
   "execution_count": 2,
   "id": "58d6d1c9-af24-4838-8aa5-e4b952c8d41c",
   "metadata": {},
   "outputs": [
    {
     "name": "stdout",
     "output_type": "stream",
     "text": [
      "16\n"
     ]
    }
   ],
   "source": [
    "square = lambda x: x ** 2\n",
    "print(square(4))  # Output: 16\n"
   ]
  },
  {
   "cell_type": "markdown",
   "id": "97719d0d-6820-4d4d-8132-54e11767dfcf",
   "metadata": {},
   "source": [
    "2. Arguments to higher-order functions:\n",
    ">>In functions like map(), filter(), and sorted(), where you pass another function as an argument."
   ]
  },
  {
   "cell_type": "code",
   "execution_count": 3,
   "id": "24641982-ad58-48b8-b4ae-88247569bb8b",
   "metadata": {},
   "outputs": [
    {
     "name": "stdout",
     "output_type": "stream",
     "text": [
      "[2, 4, 6, 8, 10]\n"
     ]
    }
   ],
   "source": [
    "numbers = [1, 2, 3, 4, 5]\n",
    "doubled = list(map(lambda x: x * 2, numbers))\n",
    "print(doubled)  # Output: [2, 4, 6, 8, 10]\n"
   ]
  },
  {
   "cell_type": "markdown",
   "id": "e5ed7d82-d9ce-45ec-af80-b6aa069a3862",
   "metadata": {},
   "source": [
    "3. Sorting with custom keys:"
   ]
  },
  {
   "cell_type": "code",
   "execution_count": 4,
   "id": "6e215227-06a3-4efd-bc2b-2f7193306206",
   "metadata": {},
   "outputs": [
    {
     "name": "stdout",
     "output_type": "stream",
     "text": [
      "[(5, -1), (3, 1), (1, 2)]\n"
     ]
    }
   ],
   "source": [
    "points = [(1, 2), (3, 1), (5, -1)]\n",
    "sorted_points = sorted(points, key=lambda x: x[1])\n",
    "print(sorted_points)  # Output: [(5, -1), (3, 1), (1, 2)]\n"
   ]
  },
  {
   "cell_type": "raw",
   "id": "a3cf3b5c-ea1f-4002-9d2a-4ff25d0963ff",
   "metadata": {},
   "source": [
    "In summary, lambda functions are best used when you need a short, throwaway function and want to keep your code concise."
   ]
  },
  {
   "cell_type": "code",
   "execution_count": null,
   "id": "83142ff9-61b8-42bc-b90f-c112f6d1c097",
   "metadata": {},
   "outputs": [],
   "source": []
  },
  {
   "cell_type": "code",
   "execution_count": null,
   "id": "cd007991-13d7-473e-b11b-07697da9054d",
   "metadata": {},
   "outputs": [],
   "source": [
    "#Q9 - Explain the purpose and usage of the `map()` function in Python."
   ]
  },
  {
   "cell_type": "markdown",
   "id": "0c8ab302-1669-4d40-974a-c1547a037f41",
   "metadata": {},
   "source": [
    "The map() function in Python is used to apply a given function to all the items in an iterable (like a list, tuple, etc.) and returns a map object (which is an iterator). You can then convert this map object to a list, tuple, or other collection types."
   ]
  },
  {
   "cell_type": "markdown",
   "id": "e09a91ec-9d33-44e7-9609-d73241b72989",
   "metadata": {},
   "source": [
    "- purpose:\n",
    ">>To simplify code by applying a function to each item of an iterable without writing explicit loops.\n",
    ">>To improve readability and potentially optimize performance by leveraging Python's internal mechanisms.\n",
    "\n",
    "- Syntax\n",
    ">> map(function, iterable)\n"
   ]
  },
  {
   "cell_type": "code",
   "execution_count": 5,
   "id": "6e5a386f-ca10-485c-9761-f72f212b8d79",
   "metadata": {},
   "outputs": [
    {
     "name": "stdout",
     "output_type": "stream",
     "text": [
      "[1, 4, 9, 16, 25]\n"
     ]
    }
   ],
   "source": [
    "# Example 1: Squaring numbers in a list\n",
    "\n",
    "def square(n):\n",
    "    return n * n\n",
    "\n",
    "numbers = [1, 2, 3, 4, 5]\n",
    "squared_numbers = map(square, numbers)\n",
    "\n",
    "# Convert map object to list to view the result\n",
    "print(list(squared_numbers))  # Output: [1, 4, 9, 16, 25]\n"
   ]
  },
  {
   "cell_type": "code",
   "execution_count": 4,
   "id": "178075fb-3fe5-49b0-a91e-63f7028529f0",
   "metadata": {},
   "outputs": [],
   "source": [
    "# Q 10 . What is the difference between `map()`, `reduce()`, and `filter()` functions in Python?"
   ]
  },
  {
   "cell_type": "markdown",
   "id": "e79a9fad-3fdf-4b66-bd34-b03ccc95f41b",
   "metadata": {},
   "source": [
    " map() Function\n",
    "Purpose: Applies a given function to each item of an iterable (like a list) and returns a map object (which is an iterator) with the results.\n",
    "Syntax: map(function, iterable)\n",
    "\n",
    "reduce() Function\n",
    "Purpose: Applies a given function cumulatively to the items of an iterable, from left to right, so as to reduce the iterable to a single value.\n",
    "Syntax: reduce(function, iterable)\n",
    "\n",
    "filter() Function\n",
    "Purpose: Applies a given function (that returns a Boolean) to each item of an iterable and returns an iterator with the items for which the function returns True.\n",
    "Syntax: filter(function, iterable)\n"
   ]
  },
  {
   "cell_type": "code",
   "execution_count": null,
   "id": "af983d2a-28fd-4478-a9ff-06d1667b93eb",
   "metadata": {},
   "outputs": [],
   "source": [
    "#Q 11- Using pen & Paper write the internal mechanism for sum operation using  reduce function on this given list:[47,11,42,13]; "
   ]
  },
  {
   "cell_type": "markdown",
   "id": "502909f0-ffa4-4d17-967b-fc04dc26bcba",
   "metadata": {},
   "source": [
    "Answer for this Question is attached in google doc. Please refer to the link of google Doc in attached Pdf"
   ]
  },
  {
   "cell_type": "code",
   "execution_count": null,
   "id": "cb6624cb-67c0-4d91-bc29-9684f37a106b",
   "metadata": {},
   "outputs": [],
   "source": []
  }
 ],
 "metadata": {
  "kernelspec": {
   "display_name": "Python 3 (ipykernel)",
   "language": "python",
   "name": "python3"
  },
  "language_info": {
   "codemirror_mode": {
    "name": "ipython",
    "version": 3
   },
   "file_extension": ".py",
   "mimetype": "text/x-python",
   "name": "python",
   "nbconvert_exporter": "python",
   "pygments_lexer": "ipython3",
   "version": "3.10.8"
  }
 },
 "nbformat": 4,
 "nbformat_minor": 5
}
